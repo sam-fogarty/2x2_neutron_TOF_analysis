{
 "cells": [
  {
   "cell_type": "code",
   "execution_count": 1,
   "id": "9a422691",
   "metadata": {},
   "outputs": [],
   "source": [
    "import h5py\n",
    "import numpy as np\n",
    "from analysis_tools_2x2 import visualize\n",
    "import importlib\n",
    "import matplotlib.pyplot as plt"
   ]
  },
  {
   "cell_type": "code",
   "execution_count": 25,
   "id": "f26184c3",
   "metadata": {},
   "outputs": [],
   "source": [
    "# open files, get datasets\n",
    "larndsim_file = '/sdf/group/neutrino/sfogarty/ND_prototype_files/charge_data/2x2/MC/larndsim/MiniRun3_1E19_RHC.larnd_v2.00001.LARNDSIM.h5'\n",
    "clustered_charge_file = '/sdf/group/neutrino/sfogarty/ND_prototype_files/charge_data/2x2/MC/clusters/MiniRun3_1E19_RHC.larnd_v2.00001.LARNDSIM_clusters.h5'\n",
    "\n",
    "h5 = h5py.File(larndsim_file,'r')\n",
    "packets = h5['packets']\n",
    "tracks = h5['tracks']\n",
    "\n",
    "trajectories = h5['trajectories']\n",
    "h5_clusters = h5py.File(clustered_charge_file,'r')\n",
    "clusters = h5_clusters['clusters']\n",
    "hits = h5_clusters['clusters_hits']\n",
    "\n",
    "genie_hdr = h5['genie_hdr']\n",
    "genie_stack = h5['genie_stack']\n",
    "light_trig = h5['light_trig']\n",
    "light_wvfm = h5['light_wvfm']\n",
    "\n",
    "target_mask = (genie_hdr['target'] == 18)\n",
    "position_mask_x = np.abs(genie_hdr['vertex'][:,0]*10) < 655\n",
    "position_mask_y = np.abs(genie_hdr['vertex'][:,1]*10 - 420) < 655\n",
    "position_mask_z = np.abs(genie_hdr['vertex'][:,2]*10) < 655\n",
    "genie_hdr_argon = genie_hdr[target_mask & position_mask_x & position_mask_y & position_mask_z]"
   ]
  },
  {
   "cell_type": "code",
   "execution_count": 5,
   "id": "1f6e0ba7",
   "metadata": {},
   "outputs": [
    {
     "data": {
      "text/plain": [
       "<KeysViewHDF5 ['_header', 'configs', 'genie_hdr', 'genie_stack', 'light_dat', 'light_trig', 'light_wvfm', 'mc_packets_assn', 'messages', 'packets', 'tracks', 'trajectories', 'vertices']>"
      ]
     },
     "execution_count": 5,
     "metadata": {},
     "output_type": "execute_result"
    }
   ],
   "source": [
    "h5.keys()"
   ]
  },
  {
   "cell_type": "code",
   "execution_count": 7,
   "id": "591b2e04",
   "metadata": {},
   "outputs": [
    {
     "data": {
      "text/plain": [
       "dtype({'names':['eventID','vertexID','trackID','local_trackID','parentID','E_start','pxyz_start','xyz_start','t_start','E_end','pxyz_end','xyz_end','t_end','pdgId','start_process','start_subprocess','end_process','end_subprocess'], 'formats':['<u4','<u8','<u4','<u4','<i4','<f4',('<f4', (3,)),('<f4', (3,)),'<f4','<f4',('<f4', (3,)),('<f4', (3,)),'<f4','<i4','<u4','<u4','<u4','<u4'], 'offsets':[0,8,16,20,24,28,32,44,56,60,64,76,88,92,96,100,104,108], 'itemsize':112})"
      ]
     },
     "execution_count": 7,
     "metadata": {},
     "output_type": "execute_result"
    }
   ],
   "source": [
    "h5['trajectories'].dtype"
   ]
  },
  {
   "cell_type": "code",
   "execution_count": 8,
   "id": "90489a8d",
   "metadata": {},
   "outputs": [],
   "source": []
  },
  {
   "cell_type": "code",
   "execution_count": 33,
   "id": "236722f9",
   "metadata": {},
   "outputs": [
    {
     "name": "stdout",
     "output_type": "stream",
     "text": [
      "[(1091, 7), (2002, 16), (2003, 3), (2013, 7), (2022, 11), (4111, 1), (4121, 206), (4151, 4), (6201, 1)]\n"
     ]
    }
   ],
   "source": [
    "all_trajectories = np.array(h5['trajectories'])\n",
    "proton_trajectories = all_trajectories[all_trajectories['pdgId'] == 2212]\n",
    "neutron_trajectories = all_trajectories[all_trajectories['pdgId'] == 2112]\n",
    "\n",
    "position_mask_x = (np.abs(proton_trajectories['xyz_start'][:,0]*10) < 625) & (np.abs(proton_trajectories['xyz_end'][:,0]*10) < 625)\n",
    "position_mask_y = (np.abs(proton_trajectories['xyz_start'][:,1]*10 - 420) < 625) & (np.abs(proton_trajectories['xyz_end'][:,1]*10 - 420) < 625)\n",
    "position_mask_z = (np.abs(proton_trajectories['xyz_start'][:,2]*10) < 625) & (np.abs(proton_trajectories['xyz_end'][:,2]*10) < 625)\n",
    "proton_trajectories = proton_trajectories[position_mask_x & position_mask_y & position_mask_z]\n",
    "\n",
    "position_mask_x = (np.abs(neutron_trajectories['xyz_start'][:,0]*10) < 625) & (np.abs(neutron_trajectories['xyz_end'][:,0]*10) < 625)\n",
    "position_mask_y = (np.abs(neutron_trajectories['xyz_start'][:,1]*10 - 420) < 625) & (np.abs(neutron_trajectories['xyz_end'][:,1]*10 - 420) < 625)\n",
    "position_mask_z = (np.abs(neutron_trajectories['xyz_start'][:,2]*10) < 625) & (np.abs(neutron_trajectories['xyz_end'][:,2]*10) < 625)\n",
    "neutron_trajectories = neutron_trajectories[position_mask_x & position_mask_y & position_mask_z]\n",
    "\n",
    "proton_start_processes = proton_trajectories['start_process']*1000 + proton_trajectories['start_subprocess']\n",
    "print(list(zip(np.unique(proton_start_processes, return_counts=True)[0],np.unique(proton_start_processes, return_counts=True)[1])))"
   ]
  },
  {
   "cell_type": "code",
   "execution_count": 43,
   "id": "2f9cd817",
   "metadata": {},
   "outputs": [
    {
     "name": "stderr",
     "output_type": "stream",
     "text": [
      "256it [00:00, 16790.86it/s]\n"
     ]
    }
   ],
   "source": [
    "from tqdm import tqdm\n",
    "nu_pdg = [-12,12,-14,14]\n",
    "proton_trackIDs = []\n",
    "neutron_length_cut_cm = 5\n",
    "proton_length_cut_cm = 0.5\n",
    "for i,parentID in tqdm(enumerate(proton_trajectories['parentID'])):\n",
    "    \n",
    "    if parentID != -1:\n",
    "        parentTrajectory = neutron_trajectories[neutron_trajectories['trackID'] == parentID]\n",
    "        if len(parentTrajectory) > 0:\n",
    "            d_neutron_cm = np.sqrt(np.sum((parentTrajectory['xyz_start'] - parentTrajectory['xyz_end'])**2))\n",
    "            d_proton_cm = np.sqrt(np.sum((proton_trajectories[i]['xyz_start'] - proton_trajectories[i]['xyz_end'])**2))\n",
    "\n",
    "            if d_neutron_cm > neutron_length_cut_cm and d_proton_cm > proton_length_cut_cm:\n",
    "                proton_trackIDs.append(i)\n",
    "            \n",
    "protons_from_neutrons_trajectories = proton_trajectories[proton_trackIDs]\n"
   ]
  },
  {
   "cell_type": "code",
   "execution_count": 44,
   "id": "9992b898",
   "metadata": {},
   "outputs": [
    {
     "data": {
      "text/plain": [
       "array([1016, 1021, 1034, 1045, 1048, 1096, 1108, 1109, 1134, 1140, 1168,\n",
       "       1169, 1178, 1183], dtype=uint32)"
      ]
     },
     "execution_count": 44,
     "metadata": {},
     "output_type": "execute_result"
    }
   ],
   "source": [
    "np.unique(protons_from_neutrons_trajectories['eventID'])"
   ]
  },
  {
   "cell_type": "code",
   "execution_count": 18,
   "id": "dcd0eb1d",
   "metadata": {},
   "outputs": [],
   "source": []
  },
  {
   "cell_type": "code",
   "execution_count": 23,
   "id": "92ea2334",
   "metadata": {},
   "outputs": [],
   "source": []
  },
  {
   "cell_type": "code",
   "execution_count": 24,
   "id": "5646eb62",
   "metadata": {},
   "outputs": [
    {
     "data": {
      "text/plain": [
       "array([1005, 1008, 1013, 1016, 1018, 1021, 1025, 1030, 1030, 1031, 1032,\n",
       "       1034, 1034, 1037, 1037, 1048, 1048, 1048, 1048, 1048, 1054, 1056,\n",
       "       1058, 1073, 1073, 1073, 1078, 1078, 1079, 1079, 1079, 1079, 1082,\n",
       "       1082, 1082, 1082, 1092, 1094, 1095, 1096, 1096, 1100, 1105, 1105,\n",
       "       1107, 1107, 1108, 1109, 1112, 1118, 1121, 1126, 1126, 1128, 1134,\n",
       "       1138, 1139, 1149, 1151, 1153, 1154, 1155, 1155, 1155, 1159, 1160,\n",
       "       1163, 1163, 1163, 1163, 1163, 1169, 1170, 1170, 1178, 1178, 1183,\n",
       "       1184, 1184, 1187, 1187, 1193, 1194], dtype=uint32)"
      ]
     },
     "execution_count": 24,
     "metadata": {},
     "output_type": "execute_result"
    }
   ],
   "source": [
    "protons_from_neutrons_trajectories_dcut['eventID']"
   ]
  },
  {
   "cell_type": "code",
   "execution_count": 43,
   "id": "645b4b89",
   "metadata": {},
   "outputs": [
    {
     "data": {
      "text/plain": [
       "array([2544, 2869, 2881, 2902, 2907, 3302], dtype=uint32)"
      ]
     },
     "execution_count": 43,
     "metadata": {},
     "output_type": "execute_result"
    }
   ],
   "source": [
    "proton_trajectories_event['trackID']"
   ]
  },
  {
   "cell_type": "code",
   "execution_count": 51,
   "id": "84cd4eb0",
   "metadata": {},
   "outputs": [
    {
     "data": {
      "text/plain": [
       "8199"
      ]
     },
     "execution_count": 51,
     "metadata": {},
     "output_type": "execute_result"
    }
   ],
   "source": [
    "all_trajectories[all_trajectories['trackID'] == 840182][0]['eventID']"
   ]
  },
  {
   "cell_type": "code",
   "execution_count": 76,
   "id": "b829cb22",
   "metadata": {},
   "outputs": [
    {
     "data": {
      "text/plain": [
       "array([],\n",
       "      dtype={'names':['eventID','vertexID','trackID','local_trackID','parentID','E_start','pxyz_start','xyz_start','t_start','E_end','pxyz_end','xyz_end','t_end','pdgId','start_process','start_subprocess','end_process','end_subprocess'], 'formats':['<u4','<u8','<u4','<u4','<i4','<f4',('<f4', (3,)),('<f4', (3,)),'<f4','<f4',('<f4', (3,)),('<f4', (3,)),'<f4','<i4','<u4','<u4','<u4','<u4'], 'offsets':[0,8,16,20,24,28,32,44,56,60,64,76,88,92,96,100,104,108], 'itemsize':112})"
      ]
     },
     "execution_count": 76,
     "metadata": {},
     "output_type": "execute_result"
    }
   ],
   "source": [
    "grandparentTrajectory"
   ]
  },
  {
   "cell_type": "code",
   "execution_count": 102,
   "id": "0113d460",
   "metadata": {},
   "outputs": [
    {
     "data": {
      "text/plain": [
       "0"
      ]
     },
     "execution_count": 102,
     "metadata": {},
     "output_type": "execute_result"
    }
   ],
   "source": [
    "np.sum(all_trajectories['pdgId'] == -16)"
   ]
  },
  {
   "cell_type": "code",
   "execution_count": 9,
   "id": "da4ce687",
   "metadata": {},
   "outputs": [
    {
     "data": {
      "text/plain": [
       "0"
      ]
     },
     "execution_count": 9,
     "metadata": {},
     "output_type": "execute_result"
    }
   ],
   "source": [
    "np.sum(all_trajectories[all_trajectories['eventID'] == 1134]['pdgId'] == 14)"
   ]
  },
  {
   "cell_type": "code",
   "execution_count": 11,
   "id": "f4be5f8f",
   "metadata": {},
   "outputs": [
    {
     "data": {
      "text/plain": [
       "array([1000000010000021, 1000000010000021, 1000000010000021,\n",
       "       1000000010000021, 1000000010000021, 1000000010000021,\n",
       "       1000000010000021, 1000000010000021, 1000000010000021,\n",
       "       1000000010000021, 1000000010000021, 1000000010000021,\n",
       "       1000000010000021, 1000000010000021, 1000000010000021,\n",
       "       1000000010000021, 1000000010000021, 1000000010000021,\n",
       "       1000000010000021, 1000000010000021, 1000000010000021,\n",
       "       1000000010000021, 1000000010000021, 1000000010000021,\n",
       "       1000000010000021, 1000000010000021, 1000000010000021,\n",
       "       1000000010000021, 1000000010000021, 1000000010000021,\n",
       "       1000000010000021, 1000000010000021, 1000000010000021,\n",
       "       1000000010000021, 1000000010000021, 1000000010000021,\n",
       "       1000000010000021, 1000000010000021, 1000000010000021,\n",
       "       1000000010000021, 1000000010000021, 1000000010000021,\n",
       "       1000000010000021, 1000000010000021, 1000000010000021,\n",
       "       1000000010000021, 1000000010000021, 1000000010000021,\n",
       "       1000000010000021, 1000000010000021, 1000000010000021,\n",
       "       1000000010000021, 1000000010000021, 1000000010000021,\n",
       "       1000000010000021, 1000000010000021, 1000000010000021,\n",
       "       1000000010000021, 1000000010000021, 1000000010000021,\n",
       "       1000000010000021, 1000000010000021, 1000000010000021,\n",
       "       1000000010000021, 1000000010000021, 1000000010000021,\n",
       "       1000000010000021, 1000000010000021, 1000000010000021,\n",
       "       1000000010000021, 1000000010000021, 1000000010000021,\n",
       "       1000000010000021, 1000000010000021, 1000000010000021,\n",
       "       1000000010000021, 1000000010000021, 1000000010000021,\n",
       "       1000000010000021, 1000000010000021, 1000000010000021,\n",
       "       1000000010000021, 1000000010000021, 1000000010000021,\n",
       "       1000000010000021, 1000000010000021, 1000000010000021,\n",
       "       1000000010000021, 1000000010000021, 1000000010000021,\n",
       "       1000000010000021, 1000000010000021, 1000000010000021,\n",
       "       1000000010000021, 1000000010000021, 1000000010000021,\n",
       "       1000000010000021, 1000000010000021, 1000000010000021,\n",
       "       1000000010000021], dtype=uint64)"
      ]
     },
     "execution_count": 11,
     "metadata": {},
     "output_type": "execute_result"
    }
   ],
   "source": [
    "all_trajectories['vertexID'][0:100]"
   ]
  },
  {
   "cell_type": "code",
   "execution_count": null,
   "id": "1e23f574",
   "metadata": {},
   "outputs": [],
   "source": []
  }
 ],
 "metadata": {
  "kernelspec": {
   "display_name": "Python 3 (ipykernel)",
   "language": "python",
   "name": "python3"
  },
  "language_info": {
   "codemirror_mode": {
    "name": "ipython",
    "version": 3
   },
   "file_extension": ".py",
   "mimetype": "text/x-python",
   "name": "python",
   "nbconvert_exporter": "python",
   "pygments_lexer": "ipython3",
   "version": "3.8.10"
  }
 },
 "nbformat": 4,
 "nbformat_minor": 5
}
